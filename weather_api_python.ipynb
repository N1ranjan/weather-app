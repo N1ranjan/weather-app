{
  "nbformat": 4,
  "nbformat_minor": 0,
  "metadata": {
    "colab": {
      "name": "weather api python.ipynb",
      "provenance": []
    },
    "kernelspec": {
      "name": "python3",
      "display_name": "Python 3"
    },
    "language_info": {
      "name": "python"
    }
  },
  "cells": [
    {
      "cell_type": "code",
      "source": [
        "import requests as rq\n",
        "import json"
      ],
      "metadata": {
        "id": "oVHOPVYTzXjG"
      },
      "execution_count": 30,
      "outputs": []
    },
    {
      "cell_type": "code",
      "execution_count": 24,
      "metadata": {
        "id": "IW8mMY2Lu5mK"
      },
      "outputs": [],
      "source": [
        "api_key=\"a29ab90e686bb8a49973d585f0abc2e4\"\n",
        "# location = \"London\"\n",
        "location=input(\"enter the location of the city\")"
      ]
    },
    {
      "cell_type": "code",
      "source": [
        "print(location)"
      ],
      "metadata": {
        "colab": {
          "base_uri": "https://localhost:8080/"
        },
        "id": "T10GvV08vNJe",
        "outputId": "f14fed27-fbda-4552-a32d-93734483e109"
      },
      "execution_count": 25,
      "outputs": [
        {
          "output_type": "stream",
          "name": "stdout",
          "text": [
            "London\n"
          ]
        }
      ]
    },
    {
      "cell_type": "code",
      "source": [
        "link=\"http://api.openweathermap.org/data/2.5/weather?appid=\"+api_key+\"&q=\"+location\n",
        "print(link)\n"
      ],
      "metadata": {
        "colab": {
          "base_uri": "https://localhost:8080/"
        },
        "id": "wO7Jq8Glyv72",
        "outputId": "69b04685-a97d-4a74-9b9f-d6029e58fdba"
      },
      "execution_count": 32,
      "outputs": [
        {
          "output_type": "stream",
          "name": "stdout",
          "text": [
            "http://api.openweathermap.org/data/2.5/weather?appid=a29ab90e686bb8a49973d585f0abc2e4&q=London\n"
          ]
        }
      ]
    },
    {
      "cell_type": "code",
      "source": [
        "complete_link=rq.get(link)\n",
        "data=complete_link.json()\n",
        "print(data)"
      ],
      "metadata": {
        "colab": {
          "base_uri": "https://localhost:8080/"
        },
        "id": "Spl1kHzYzcQ-",
        "outputId": "017458d2-12ee-4ec6-d545-d8814ca8fb38"
      },
      "execution_count": 33,
      "outputs": [
        {
          "output_type": "stream",
          "name": "stdout",
          "text": [
            "{'coord': {'lon': -0.1257, 'lat': 51.5085}, 'weather': [{'id': 802, 'main': 'Clouds', 'description': 'scattered clouds', 'icon': '03d'}], 'base': 'stations', 'main': {'temp': 283.44, 'feels_like': 281.91, 'temp_min': 281.87, 'temp_max': 284.97, 'pressure': 1027, 'humidity': 53}, 'visibility': 10000, 'wind': {'speed': 7.2, 'deg': 300}, 'clouds': {'all': 40}, 'dt': 1645793130, 'sys': {'type': 2, 'id': 268730, 'country': 'GB', 'sunrise': 1645772087, 'sunset': 1645810365}, 'timezone': 0, 'id': 2643743, 'name': 'London', 'cod': 200}\n"
          ]
        }
      ]
    },
    {
      "cell_type": "code",
      "source": [
        "latitude=data['coord']['lat']\n",
        "longitude=data['coord']['lon']\n",
        "temperature=data['main'][\"temp\"]\n",
        "\n",
        "\n",
        "print(temperature,\"is the temperature at the latitiude\",latitude,\"and longitude\",longitude)\n"
      ],
      "metadata": {
        "colab": {
          "base_uri": "https://localhost:8080/"
        },
        "id": "FBLnmW9t80fW",
        "outputId": "ce1b8e2a-afa4-4e47-8427-c3ee34810e3a"
      },
      "execution_count": 44,
      "outputs": [
        {
          "output_type": "stream",
          "name": "stdout",
          "text": [
            "283.44 is the temperature at the latitiude 51.5085  and longitude  -0.1257\n"
          ]
        }
      ]
    }
  ]
}